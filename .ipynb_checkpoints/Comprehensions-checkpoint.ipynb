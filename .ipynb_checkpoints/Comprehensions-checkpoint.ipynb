{
 "cells": [
  {
   "cell_type": "markdown",
   "id": "6bf270c9-9113-470f-922f-e1899ebcf403",
   "metadata": {},
   "source": [
    "## Comprehensions in Python"
   ]
  },
  {
   "cell_type": "raw",
   "id": "ede0e8e1-8c6b-4412-9740-7e1f877d7521",
   "metadata": {},
   "source": [
    "Comprehensions in Python provide us with a short and concise way to construct new sequences (such as lists, set, dictionary etc.) using sequences which have been already defined. Python supports the following 4 types of comprehensions:\n",
    "\n",
    "1. List Comprehensions\n",
    "2. Dictionary Comprehensions\n",
    "3. Set Comprehensions\n",
    "4. Generator Comprehensions"
   ]
  },
  {
   "cell_type": "markdown",
   "id": "154c2cce-6384-483a-8e4d-08144335583e",
   "metadata": {},
   "source": [
    "### 1. List Comprehensions"
   ]
  },
  {
   "cell_type": "raw",
   "id": "7c4cd78c-8dd0-4719-b72d-3d5291cbd0d7",
   "metadata": {},
   "source": [
    "List Comprehensions provide an elegant way to create new lists. The following is the basic structure of a list comprehension:\n",
    "\n",
    "output_list = [output_expression for variable in input_list if (conditionals)] OR\n",
    "output_list = [output_expression for variable in input_list] OR\n",
    "output_list = [output_expression if (conditionals) for variable in input list]\n",
    "\n",
    "\n",
    "There are 3 components to these\n",
    "\n",
    "output_expression: member itself, a call to a method, or any other valid expression that returns a value\n",
    "variable: object or value in the list or iterable\n",
    "input_list: a list, a set, a sequence, a generator or any other objects that can return its element one at a time\n",
    "\n",
    "Note that the members of the variables (expression) can also be passed through as an argument into if conditionals (see example 6)\n",
    "\n",
    "Note that list comprehension may or may not contain an if condition. List comprehensions can contain multiple for (nested list comprehensions)."
   ]
  },
  {
   "cell_type": "raw",
   "id": "c1fe9fd5-3988-4d54-b0cb-c010b08c5be0",
   "metadata": {},
   "source": [
    "Note that if there is no sequence needed since the function or method has already been catered for, use the placeholder '_' in the variable part of the statement and range (1) in the input_list (see example 8). \n",
    "\n",
    "This is one of the many instances where list comprehension is not only used for iteration calculation but also applying expression or function and storing results\n",
    "\n",
    "output_list = [output_expression for _ in range(1)]"
   ]
  },
  {
   "cell_type": "raw",
   "id": "133e403b-c256-406b-b349-c157035ea414",
   "metadata": {},
   "source": [
    "The benefits of list comprehension\n",
    "\n",
    "1. a single tool that you can use in many different situations (mapping or filtering)\n",
    "2. Pythonic - no need to know the order of the argument. Short and concise\n",
    "3. More declarative than loops"
   ]
  },
  {
   "cell_type": "markdown",
   "id": "3eae4298-d589-41c7-afd7-38ed866bb5e0",
   "metadata": {},
   "source": [
    "#### Example 1: Create an output list which only contains even numbers\n",
    "\n",
    "Suppose we want to create an output list which contains only the even numbers which are present in the input list. Let’s see how to do this using for loops and list comprehension and decide which method suits better."
   ]
  },
  {
   "cell_type": "code",
   "execution_count": 3,
   "id": "20e6c118-3d42-4b00-a571-023ea2cafbd7",
   "metadata": {},
   "outputs": [
    {
     "name": "stdout",
     "output_type": "stream",
     "text": [
      "Output List using for loop: [2, 4, 4, 6]\n"
     ]
    }
   ],
   "source": [
    "# Constructing output list WITHOUT\n",
    "# Using List comprehensions\n",
    "input_list = [1, 2, 3, 4, 4, 5, 6, 7, 7]\n",
    "\n",
    "output_list = []\n",
    "\n",
    "# Using loop for constructing output list\n",
    "for var in input_list:\n",
    "    if var % 2 == 0:\n",
    "        output_list.append(var)\n",
    "\n",
    "print(\"Output List using for loop:\", output_list)\n"
   ]
  },
  {
   "cell_type": "code",
   "execution_count": 4,
   "id": "bcd170c7-8d4e-4d15-9f1f-1ec11ba93176",
   "metadata": {},
   "outputs": [
    {
     "name": "stdout",
     "output_type": "stream",
     "text": [
      "Output List using comprehension: [2, 4, 4, 6]\n"
     ]
    }
   ],
   "source": [
    "# Using List comprehensions\n",
    "# for constructing output list\n",
    "  \n",
    "input_list = [1, 2, 3, 4, 4, 5, 6, 7, 7]\n",
    "\n",
    "list_using_comp = [var for var in input_list if var % 2 == 0]\n",
    "\n",
    "print(\"Output List using comprehension:\", list_using_comp)"
   ]
  },
  {
   "cell_type": "markdown",
   "id": "9dc34eea-dd98-4875-955f-2ee7abb22aef",
   "metadata": {},
   "source": [
    "#### Example 2: Create an output list which only contains squares of all the numbers from 1 to 9\n",
    "\n",
    "Suppose we want to create an output list which contains squares of all the numbers from 1 to 9. Let’s see how to do this using for loops and list comprehension."
   ]
  },
  {
   "cell_type": "code",
   "execution_count": 6,
   "id": "af471317-187e-4222-bfa6-5b8fe794c574",
   "metadata": {},
   "outputs": [
    {
     "name": "stdout",
     "output_type": "stream",
     "text": [
      "Output List using for loop: [1, 4, 9, 16, 25, 36, 49, 64, 81]\n"
     ]
    }
   ],
   "source": [
    "# Constructing output list using for loop\n",
    "output_list = []\n",
    "for i in range(1, 10):\n",
    "    output_list.append(i ** 2)\n",
    "\n",
    "print(\"Output List using for loop:\", output_list)\n"
   ]
  },
  {
   "cell_type": "code",
   "execution_count": 9,
   "id": "fbede6c9-06c8-46ee-babb-1f00691babfd",
   "metadata": {},
   "outputs": [
    {
     "name": "stdout",
     "output_type": "stream",
     "text": [
      "Output List using comprehension: [1, 4, 9, 16, 25, 36, 49, 64, 81]\n"
     ]
    }
   ],
   "source": [
    "# Using list comprehensions\n",
    "# for constructing output list\n",
    "\n",
    "\n",
    "list_using_comp = [i ** 2 for i in range(1,10)]\n",
    "\n",
    "print(\"Output List using comprehension:\", list_using_comp)"
   ]
  },
  {
   "cell_type": "markdown",
   "id": "1702aad5-6ee6-40bc-bbd8-9af12abd0447",
   "metadata": {},
   "source": [
    "#### Example 3: Create an output list which only contains the word of a string\n",
    "\n",
    "Suppose we want to print every alphabets in a string"
   ]
  },
  {
   "cell_type": "code",
   "execution_count": 11,
   "id": "54bf01c1-fab2-48fc-add3-7117662da57a",
   "metadata": {},
   "outputs": [
    {
     "name": "stdout",
     "output_type": "stream",
     "text": [
      "Output List using for loop: ['h', 'u', 'm', 'a', 'n']\n"
     ]
    }
   ],
   "source": [
    "# Constructing output list using for loop\n",
    "\n",
    "h_letter = []\n",
    "\n",
    "for letter in \"human\":\n",
    "    h_letter.append(letter)\n",
    "\n",
    "print(\"Output List using for loop:\", h_letter)"
   ]
  },
  {
   "cell_type": "code",
   "execution_count": 13,
   "id": "8ccf767c-5fb5-4967-a10a-a5f52e3a8648",
   "metadata": {},
   "outputs": [
    {
     "name": "stdout",
     "output_type": "stream",
     "text": [
      "Output List using comprehension: ['h', 'u', 'm', 'a', 'n']\n"
     ]
    }
   ],
   "source": [
    "# Using list comprehensions\n",
    "# for constructing output list\n",
    "\n",
    "\n",
    "list_using_comp = [letter for letter in \"human\"]\n",
    "\n",
    "print(\"Output List using comprehension:\", list_using_comp)"
   ]
  },
  {
   "cell_type": "markdown",
   "id": "a60c1419-350a-423c-b4b7-69a0649fc52d",
   "metadata": {},
   "source": [
    "#### Example 4: Create an output list if only it contains the word \"a\"\n",
    "\n",
    "Suppose we want to print elements only containing a certain word"
   ]
  },
  {
   "cell_type": "code",
   "execution_count": 17,
   "id": "0b1ee508-c259-440d-b3cf-5902706ecd88",
   "metadata": {},
   "outputs": [
    {
     "name": "stdout",
     "output_type": "stream",
     "text": [
      "Output Lust using comprehension: ['apple', 'banana', 'mango']\n"
     ]
    }
   ],
   "source": [
    "# Constructing output list using for loop\n",
    "\n",
    "fruits = [\"apple\", \"banana\", \"cherry\", \"kiwi\", \"mango\"]\n",
    "\n",
    "fruits_a = []\n",
    "\n",
    "for i in fruits:\n",
    "    if \"a\" in i:\n",
    "        fruits_a.append(i)\n",
    "\n",
    "print(\"Output List using for loop:\", fruits_a)"
   ]
  },
  {
   "cell_type": "code",
   "execution_count": 18,
   "id": "3602f43c-52f4-4546-a17d-a89d44ad53f7",
   "metadata": {},
   "outputs": [
    {
     "name": "stdout",
     "output_type": "stream",
     "text": [
      "Output List using comprehension: ['apple', 'banana', 'mango']\n"
     ]
    }
   ],
   "source": [
    "# Using list comprehensions\n",
    "# for constructing output list\n",
    "\n",
    "fruits = [\"apple\", \"banana\", \"cherry\", \"kiwi\", \"mango\"]\n",
    "\n",
    "list_using_comp = [i for i in fruits if \"a\" in i]\n",
    "\n",
    "print(\"Output List using comprehension:\", list_using_comp)"
   ]
  },
  {
   "cell_type": "markdown",
   "id": "74cdf38c-ce0d-4cb8-8e37-82325451c5d2",
   "metadata": {},
   "source": [
    "#### Example 5: Passing an argument (function or method) into the list comprehension\n",
    "\n",
    "Suppose we want to pass the result of the function or method into the list comprehension"
   ]
  },
  {
   "cell_type": "code",
   "execution_count": 35,
   "id": "7fa1584a-1dbb-452a-8f1b-16d886c4a326",
   "metadata": {},
   "outputs": [
    {
     "name": "stdout",
     "output_type": "stream",
     "text": [
      "Output List using comprehension: [4, 16]\n"
     ]
    }
   ],
   "source": [
    "def square_of(numbers):\n",
    "    \n",
    "    squared_num = []\n",
    "    \n",
    "    for i in numbers:\n",
    "        squared_num.append(i**2)\n",
    "        \n",
    "    return squared_num\n",
    "\n",
    "squared_list = square_of([1, 2, 3, 4, 5])\n",
    "\n",
    "list_using_comp = [x for x in squared_list if x%2 == 0]\n",
    "\n",
    "print(\"Output List using comprehension:\", list_using_comp)"
   ]
  },
  {
   "cell_type": "markdown",
   "id": "9064f693-fd74-4e8a-8172-87464e8ec91f",
   "metadata": {},
   "source": [
    "#### Example 6: Passing an argument in the list comprehension into a seperate function or method\n",
    "\n",
    "Suppose we want a conditional logic to a seperate function with members of the iterable object to be pass on later in the list comprehension statement (members directly called as variables to a function)"
   ]
  },
  {
   "cell_type": "code",
   "execution_count": 51,
   "id": "ecee8dea-733b-406c-8773-f73e70d6a30d",
   "metadata": {},
   "outputs": [
    {
     "name": "stdout",
     "output_type": "stream",
     "text": [
      "Output List using comprehension: ['o', 'u', 'o', 'o', 'o', 'a', 'o', 'o']\n"
     ]
    }
   ],
   "source": [
    "def is_consonants(i):\n",
    "    vowels = 'aeiou'\n",
    "    return i.lower() in vowels\n",
    "\n",
    "sentence = 'Groud control to Major Tom'\n",
    "\n",
    "list_using_comp = [i for i in sentence if is_consonants(i)]\n",
    "\n",
    "print(\"Output List using comprehension:\", list_using_comp)"
   ]
  },
  {
   "cell_type": "markdown",
   "id": "79e95138-e7bc-4a90-b922-3d754a525c77",
   "metadata": {},
   "source": [
    "#### Example 7: Change the value of the expression (return members) based on conditionals and have multiple output options using ternary operator (else)\n",
    "\n",
    "Suppose we want to replace the negative prices with 0 and positive unchanged"
   ]
  },
  {
   "cell_type": "code",
   "execution_count": 4,
   "id": "65719065-5890-49c8-bcbb-5ad5639c059e",
   "metadata": {},
   "outputs": [
    {
     "name": "stdout",
     "output_type": "stream",
     "text": [
      "Output List using comprehension: [1.25, 2.5, 0, 0]\n"
     ]
    }
   ],
   "source": [
    "original_prices = [1.25, 2.5, -5.2 , -10.2]\n",
    "\n",
    "list_using_comp = [i if i>0 else 0 for i in original_prices]\n",
    "                   \n",
    "print(\"Output List using comprehension:\", list_using_comp)"
   ]
  },
  {
   "cell_type": "markdown",
   "id": "bf012763-9a4f-437d-9992-ba2bd744bc8c",
   "metadata": {},
   "source": [
    "Suppose we want to round out the first return numbers if it is positive and negative remains 0"
   ]
  },
  {
   "cell_type": "code",
   "execution_count": 6,
   "id": "9840aa78-a13b-4bdf-bdf3-76cbdc30fcad",
   "metadata": {},
   "outputs": [
    {
     "name": "stdout",
     "output_type": "stream",
     "text": [
      "Output List using comprehension: [1.0, 2.0, 0, 0]\n"
     ]
    }
   ],
   "source": [
    "original_prices = [1.25, 2.5, -5.2 , -10.2]\n",
    "\n",
    "list_using_comp = [round (i,0) if i>0 else 0 for i in original_prices]\n",
    "                   \n",
    "print(\"Output List using comprehension:\", list_using_comp)"
   ]
  },
  {
   "cell_type": "markdown",
   "id": "ff956708-7905-4af1-a2f4-0db801ba392a",
   "metadata": {},
   "source": [
    "#### Example 8: Calling the function or method as the expression where the conditional is within the function and to store the result as only a single element\n",
    "\n",
    "Suppose we want to sum up the values in the list and return appropriate response based on the sum figures"
   ]
  },
  {
   "cell_type": "code",
   "execution_count": 26,
   "id": "5b00c67b-da6d-41b9-a813-aa4e417e8e24",
   "metadata": {},
   "outputs": [
    {
     "data": {
      "text/plain": [
       "['the outlook is negative']"
      ]
     },
     "execution_count": 26,
     "metadata": {},
     "output_type": "execute_result"
    }
   ],
   "source": [
    "outlook = [98.5, 54.2, -10.2]\n",
    "\n",
    "def yield_result(outlook):\n",
    "    if sum(outlook) > 0:\n",
    "        return \"the outlook is positive\"\n",
    "    else:\n",
    "        return \"the outlook is negative\"\n",
    "\n",
    "list_using_comp = [yield_result(outlook) for _ in range(1)]\n",
    "\n",
    "list_using_comp"
   ]
  },
  {
   "cell_type": "markdown",
   "id": "74fc9a72-fdc9-4c73-a181-328eadfdfcb4",
   "metadata": {},
   "source": [
    "### 2. Dictionary Comprehensions"
   ]
  },
  {
   "cell_type": "raw",
   "id": "ffac5fe9-83b3-4204-b2df-782c4672be86",
   "metadata": {},
   "source": [
    "Extending the idea of list comprehensions, we can also create a dictionary using dictionary comprehensions. The basic structure of a dictionary comprehension looks like below.\n",
    "\n",
    "output_dict = {key:value for (key, value) in iterable if (key, value satisfy this condition)}\n",
    "output_dict = {key:value if (conditionals) for variables in (key, value)}\n"
   ]
  },
  {
   "cell_type": "markdown",
   "id": "ae8ad012-8ff5-4c16-b8be-c9ed70c718dc",
   "metadata": {},
   "source": [
    "#### Example 1: Suppose we want to create an output dictionary which contains only the odd numbers that are present in the input list as keys and their cubes as values. \n",
    "\n",
    "Let’s see how to do this using for loops and dictionary comprehension."
   ]
  },
  {
   "cell_type": "code",
   "execution_count": 9,
   "id": "ea1fb39a-3d70-43c6-a25b-2a604cfda5b2",
   "metadata": {},
   "outputs": [
    {
     "name": "stdout",
     "output_type": "stream",
     "text": [
      "Output dict using for loop: {1: 1, 3: 27, 5: 125}\n"
     ]
    }
   ],
   "source": [
    "input_list = [1, 2, 3, 4, 5]\n",
    "\n",
    "output_dict = {}\n",
    "\n",
    "for i in input_list:\n",
    "    if i % 2 !=0:\n",
    "        output_dict[i] = i**3\n",
    "\n",
    "print(\"Output dict using for loop:\", output_dict)"
   ]
  },
  {
   "cell_type": "code",
   "execution_count": 12,
   "id": "bb32543d-ca00-4f8d-8b5e-cc904608f64a",
   "metadata": {},
   "outputs": [
    {
     "name": "stdout",
     "output_type": "stream",
     "text": [
      "Output dict using comprehension: {1: 1, 3: 27, 5: 125}\n"
     ]
    }
   ],
   "source": [
    "# Using dict comprehension\n",
    "\n",
    "input_list = [1, 2, 3, 4, 5]\n",
    "\n",
    "output_dict = {i: i**3 for i in input_list if i % 2 != 0}\n",
    "\n",
    "print(\"Output dict using comprehension:\", output_dict)"
   ]
  },
  {
   "cell_type": "markdown",
   "id": "024c4ad4-0b4f-4311-ae20-df339e8891a4",
   "metadata": {},
   "source": [
    "#### Example 2: Create an output key:value if only it contains the word \"a\" in dict format which is conditional and have two outcomes of outputs if it contains the word \"a\" using ternary operator (else)\n",
    "Suppose we want to return \"yes\" or \"no\" if it contains the word \"a\"\n"
   ]
  },
  {
   "cell_type": "code",
   "execution_count": 17,
   "id": "40ec0661-08ad-4215-bbc8-46c3c62969b2",
   "metadata": {},
   "outputs": [
    {
     "data": {
      "text/plain": [
       "{'apple': 'yes',\n",
       " 'fig': 'no',\n",
       " 'orange': 'yes',\n",
       " 'watermelon': 'yes',\n",
       " 'kiwi': 'no'}"
      ]
     },
     "execution_count": 17,
     "metadata": {},
     "output_type": "execute_result"
    }
   ],
   "source": [
    "# Using for loop\n",
    "\n",
    "input_list = [\"apple\", \"fig\", \"orange\", \"watermelon\", \"kiwi\"]\n",
    "\n",
    "output_dict = {}\n",
    "\n",
    "for i in input_list:\n",
    "    if \"a\" in i:\n",
    "        output_dict[i] = \"yes\"\n",
    "    if \"a\" not in i:\n",
    "        output_dict[i] = \"no\"\n",
    "\n",
    "output_dict"
   ]
  },
  {
   "cell_type": "code",
   "execution_count": 22,
   "id": "1172c3e4-c106-4c18-bf86-3df50018f921",
   "metadata": {},
   "outputs": [
    {
     "data": {
      "text/plain": [
       "{'apple': 'yes',\n",
       " 'fig': 'no',\n",
       " 'orange': 'yes',\n",
       " 'watermelon': 'yes',\n",
       " 'kiwi': 'no'}"
      ]
     },
     "execution_count": 22,
     "metadata": {},
     "output_type": "execute_result"
    }
   ],
   "source": [
    "# Using dict comprehension\n",
    "\n",
    "input_list = [\"apple\", \"fig\", \"orange\", \"watermelon\", \"kiwi\"]\n",
    "\n",
    "output_dict = {i:\"yes\" if \"a\" in i else \"no\" for i in input_list}\n",
    "\n",
    "output_dict"
   ]
  },
  {
   "cell_type": "code",
   "execution_count": 50,
   "id": "fa5a9fdd-61af-4e05-bd41-642bc17dfa7e",
   "metadata": {},
   "outputs": [
    {
     "data": {
      "text/plain": [
       "{'100 seconds': 'FAIL',\n",
       " '200 seconds': 'PASS',\n",
       " '300 seconds': 'PASS',\n",
       " '400 seconds': 'FAIL',\n",
       " '500 seconds': 'FAIL'}"
      ]
     },
     "execution_count": 50,
     "metadata": {},
     "output_type": "execute_result"
    }
   ],
   "source": [
    "# Another example, this time it invloves numeric logics\n",
    "# Using for loop\n",
    "\n",
    "input_dict = {\"100 seconds\": 80.9, \"200 seconds\": 101.5, \"300 seconds\": 120.6, \"400 seconds\": 95.2, \"500 seconds\": 70.8}\n",
    "\n",
    "output_dict = {}\n",
    "\n",
    "for i, j in input_dict.items():\n",
    "    if j > 100:\n",
    "        output_dict[i] = \"PASS\"\n",
    "    if j < 100:\n",
    "        output_dict[i] = \"FAIL\"\n",
    "\n",
    "output_dict        "
   ]
  },
  {
   "cell_type": "code",
   "execution_count": 56,
   "id": "ba9cd8e1-6ccf-4cc0-bd01-f1e52239caf4",
   "metadata": {},
   "outputs": [
    {
     "data": {
      "text/plain": [
       "{'100 seconds': 'FAIL',\n",
       " '200 seconds': 'PASS',\n",
       " '300 seconds': 'PASS',\n",
       " '400 seconds': 'FAIL',\n",
       " '500 seconds': 'FAIL'}"
      ]
     },
     "execution_count": 56,
     "metadata": {},
     "output_type": "execute_result"
    }
   ],
   "source": [
    "# Using dict comprehension\n",
    "\n",
    "input_dict = {\"100 seconds\": 80.9, \"200 seconds\": 101.5, \"300 seconds\": 120.6, \"400 seconds\": 95.2, \"500 seconds\": 70.8, \"600 seconds\": 88.1}\n",
    "\n",
    "output_dict = {i: \"PASS\" if j > 100 else \"FAIL\" for i, j in input_dict.items()}\n",
    "\n",
    "output_dict"
   ]
  },
  {
   "cell_type": "raw",
   "id": "3bb64bb3-5185-4366-8b8f-b5163e8f79db",
   "metadata": {},
   "source": [
    "https://realpython.com/list-comprehension-python/#using-list-comprehensions\n",
    "https://www.geeksforgeeks.org/comprehensions-in-python/"
   ]
  }
 ],
 "metadata": {
  "kernelspec": {
   "display_name": "Python 3 (ipykernel)",
   "language": "python",
   "name": "python3"
  },
  "language_info": {
   "codemirror_mode": {
    "name": "ipython",
    "version": 3
   },
   "file_extension": ".py",
   "mimetype": "text/x-python",
   "name": "python",
   "nbconvert_exporter": "python",
   "pygments_lexer": "ipython3",
   "version": "3.9.12"
  }
 },
 "nbformat": 4,
 "nbformat_minor": 5
}
